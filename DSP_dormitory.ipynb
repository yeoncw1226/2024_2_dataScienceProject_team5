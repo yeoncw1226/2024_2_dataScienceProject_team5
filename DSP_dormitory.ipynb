{
  "nbformat": 4,
  "nbformat_minor": 0,
  "metadata": {
    "colab": {
      "provenance": [],
      "authorship_tag": "ABX9TyMiPgUHBrNNPUfaS3rgt88W",
      "include_colab_link": true
    },
    "kernelspec": {
      "name": "python3",
      "display_name": "Python 3"
    },
    "language_info": {
      "name": "python"
    }
  },
  "cells": [
    {
      "cell_type": "markdown",
      "metadata": {
        "id": "view-in-github",
        "colab_type": "text"
      },
      "source": [
        "<a href=\"https://colab.research.google.com/github/yeoncw1226/2024_2_dataScienceProject_team5/blob/main/DSP_dormitory.ipynb\" target=\"_parent\"><img src=\"https://colab.research.google.com/assets/colab-badge.svg\" alt=\"Open In Colab\"/></a>"
      ]
    },
    {
      "cell_type": "code",
      "source": [
        "!pip install pulp"
      ],
      "metadata": {
        "colab": {
          "base_uri": "https://localhost:8080/"
        },
        "id": "NgZh_tUNUiEK",
        "outputId": "5570bd2b-78a7-43f0-e0f3-5e03def91fa6"
      },
      "execution_count": null,
      "outputs": [
        {
          "output_type": "stream",
          "name": "stdout",
          "text": [
            "Collecting pulp\n",
            "  Downloading PuLP-2.9.0-py3-none-any.whl.metadata (5.4 kB)\n",
            "Downloading PuLP-2.9.0-py3-none-any.whl (17.7 MB)\n",
            "\u001b[2K   \u001b[90m━━━━━━━━━━━━━━━━━━━━━━━━━━━━━━━━━━━━━━━━\u001b[0m \u001b[32m17.7/17.7 MB\u001b[0m \u001b[31m75.0 MB/s\u001b[0m eta \u001b[36m0:00:00\u001b[0m\n",
            "\u001b[?25hInstalling collected packages: pulp\n",
            "Successfully installed pulp-2.9.0\n"
          ]
        }
      ]
    },
    {
      "cell_type": "code",
      "source": [
        "import pandas as pd\n",
        "from pulp import LpMaximize, LpProblem, LpVariable, lpSum\n",
        "\n",
        "# 파일 로드\n",
        "path = \"/content/데사프기숙사구조_우리버전.xlsx\"  # 파일 경로 입력\n",
        "sheet_data = pd.read_excel(path, header=None)\n",
        "\n",
        "# 변수명과 상수값 추출\n",
        "variables = sheet_data.iloc[0, 1:6].tolist()  # 1행에서 변수명 (0열 제외)\n",
        "objective_coefficients = sheet_data.iloc[1, 1:6].values  # 2행에서 상수값 (0열 제외)\n",
        "\n",
        "# 제약 조건 추출\n",
        "constraint_coefficients = sheet_data.iloc[2:, 1:6].values  # 3행부터: 1~8열 계수\n",
        "operators = sheet_data.iloc[2:, 6].values  # 3행부터: 8열 부등호\n",
        "rhs_values = sheet_data.iloc[2:, 7].values  # 3행부터: 9열 RHS\n",
        "\n",
        "# 문제 정의\n",
        "problem = LpProblem(\"Maximize_Linear_Objective\", LpMaximize)\n",
        "\n",
        "# 변수 정의 (I2는 양의 정수, 나머지는 연속형 변수)\n",
        "lp_variables = {\n",
        "    var: LpVariable(var, lowBound=1, cat='Integer') if var == 'I2' else LpVariable(var, lowBound=0, cat='Continuous')\n",
        "    for var in variables\n",
        "}\n",
        "\n",
        "# 목적 함수 설정\n",
        "problem += lpSum(objective_coefficients[i] * lp_variables[variables[i]] for i in range(len(variables)))\n",
        "\n",
        "# 제약 조건 추가\n",
        "for i, (coeff_row, operator, rhs) in enumerate(zip(constraint_coefficients, operators, rhs_values)):\n",
        "    if operator == '<=':\n",
        "        problem += lpSum(coeff_row[j] * lp_variables[variables[j]] for j in range(len(variables))) <= rhs\n",
        "    elif operator == '>=':\n",
        "        problem += lpSum(coeff_row[j] * lp_variables[variables[j]] for j in range(len(variables))) >= rhs\n",
        "    else:\n",
        "        raise ValueError(f\"Unsupported operator: {operator}\")\n",
        "\n",
        "# 최적화 실행\n",
        "problem.solve()\n",
        "\n",
        "# 결과 요약\n",
        "result_summary = {\n",
        "    \"Optimal Value (Maximized)\": problem.objective.value(),\n",
        "    \"Optimal Variables\": {\n",
        "        var: int(round(lp_variables[var].value())) if var == 'I2(room)' else lp_variables[var].value()\n",
        "        for var in variables\n",
        "    },\n",
        "    \"Status\": problem.status\n",
        "}\n",
        "\n",
        "\n",
        "# 결과 출력\n",
        "print(result_summary)"
      ],
      "metadata": {
        "colab": {
          "base_uri": "https://localhost:8080/"
        },
        "id": "wAMRgLJ0Km8q",
        "outputId": "bc718f7b-980c-4ae0-a72e-1e938a7548be"
      },
      "execution_count": null,
      "outputs": [
        {
          "output_type": "stream",
          "name": "stdout",
          "text": [
            "{'Optimal Value (Maximized)': 1571996210.920192, 'Optimal Variables': {'I2(room)': 39, 'X1(kitchen)': 82.065421, 'X2(store)': 170.0, 'X3(gym)': 381.43, 'X4(garden)': 0.0}, 'Status': 1}\n"
          ]
        }
      ]
    },
    {
      "cell_type": "code",
      "source": [
        "new_data = [13279.7, 3000, 10681.3]\n",
        "ori = 4050\n",
        "new = []\n",
        "for i in new_data:\n",
        "  new.append(i/ori)\n",
        "print(new)"
      ],
      "metadata": {
        "colab": {
          "base_uri": "https://localhost:8080/"
        },
        "id": "Hgc6-63rOitQ",
        "outputId": "e575261e-31bb-4dfd-a417-d75aebf20282"
      },
      "execution_count": null,
      "outputs": [
        {
          "output_type": "stream",
          "name": "stdout",
          "text": [
            "[3.2789382716049387, 0.7407407407407407, 2.6373580246913577]\n"
          ]
        }
      ]
    },
    {
      "cell_type": "code",
      "source": [
        "from pulp import LpMaximize, LpProblem, LpVariable, lpSum\n",
        "import pandas as pd\n",
        "\n",
        "# 기존 데이터 로드\n",
        "path = \"/content/데사프기숙사구조_우리버전.xlsx\"\n",
        "sheet_data = pd.read_excel(path, header=None)\n",
        "\n",
        "# 변수명과 목적 함수 계수 추출\n",
        "variables = sheet_data.iloc[0, 1:6].tolist()\n",
        "objective_coefficients = sheet_data.iloc[1, 1:6].values\n",
        "\n",
        "# 제약 조건 추출\n",
        "constraint_coefficients = sheet_data.iloc[2:, 1:6].values\n",
        "operators = sheet_data.iloc[2:, 6].values\n",
        "rhs_values = sheet_data.iloc[2:, 7].values\n",
        "\n",
        "# 새로운 데이터\n",
        "\n",
        "\n",
        "# 최적화 결과 저장\n",
        "results = []\n",
        "\n",
        "\n",
        "lp_variables = {\n",
        "        var: LpVariable(var, lowBound=1, cat=\"Integer\") if var == \"I2\" else LpVariable(var, lowBound=0, cat=\"Continuous\")\n",
        "        for var in variables\n",
        "    }\n",
        "\n",
        "# 각 new 값을 사용하여 최적화 반복 실행\n",
        "\n",
        "\n",
        "new_data = [6000, 7074, 22013] #our area\n",
        "for ori in new_data:\n",
        "    multiplier = ori/4050  #4050: area in paper\n",
        "    new_rhs_values = [rhs * multiplier for rhs in rhs_values] #set new constraints\n",
        "\n",
        "    # 문제 정의\n",
        "    problem = LpProblem(f\"Maximize_Linear_Objective_with_multiplier_{multiplier}\", LpMaximize)\n",
        "\n",
        "    # 변수 정의\n",
        "\n",
        "\n",
        "    # 목적 함수 설정\n",
        "    problem += lpSum(objective_coefficients[i] * lp_variables[variables[i]] for i in range(len(variables)))\n",
        "\n",
        "    # 제약 조건 추가\n",
        "    for i, (coeff_row, operator, rhs) in enumerate(zip(constraint_coefficients, operators, new_rhs_values)):\n",
        "        if operator == \"<=\":\n",
        "            problem += lpSum(coeff_row[j] * lp_variables[variables[j]] for j in range(len(variables))) <= rhs\n",
        "        elif operator == \">=\":\n",
        "            problem += lpSum(coeff_row[j] * lp_variables[variables[j]] for j in range(len(variables))) >= rhs\n",
        "        else:\n",
        "            raise ValueError(f\"Unsupported operator: {operator}\")\n",
        "\n",
        "    # 최적화 실행\n",
        "    problem.solve()\n",
        "\n",
        "    # 결과 저장\n",
        "\n",
        "    result_summary = {\n",
        "        \"Multiplier\": ori,\n",
        "    \"Optimal Value (Maximized)\": problem.objective.value(),\n",
        "    \"Optimal Variables\": {\n",
        "        var: int(round(lp_variables[var].value())) if var == 'I2(room)' else lp_variables[var].value()\n",
        "        for var in variables\n",
        "    },\n",
        "    \"Status\": problem.status\n",
        "}\n",
        "\n",
        "    results.append(result_summary)\n",
        "\n",
        "# 결과 출력\n",
        "for result in results:\n",
        "    print(f\"Results for Area {result['Multiplier']}:\")\n",
        "    print(f\"  Optimal Value: {result['Optimal Value (Maximized)']}\")\n",
        "    print(f\"  Optimal Variables: {result['Optimal Variables']}\")\n",
        "    print(f\"  Status: {result['Status']}\")\n",
        "    print(\"-\" * 50)"
      ],
      "metadata": {
        "colab": {
          "base_uri": "https://localhost:8080/"
        },
        "id": "55TGJzADPa-z",
        "outputId": "a08ed1cf-25a5-4472-8505-f243c3122c40"
      },
      "execution_count": null,
      "outputs": [
        {
          "output_type": "stream",
          "name": "stdout",
          "text": [
            "Results for Area 6000:\n",
            "  Optimal Value: 2328883257.933764\n",
            "  Optimal Variables: {'I2(room)': 58, 'X1(kitchen)': 121.5784, 'X2(store)': 251.85185, 'X3(gym)': 565.08148, 'X4(garden)': 0.0}\n",
            "  Status: 1\n",
            "--------------------------------------------------\n",
            "Results for Area 7074:\n",
            "  Optimal Value: 2745753368.0872197\n",
            "  Optimal Variables: {'I2(room)': 69, 'X1(kitchen)': 143.34094, 'X2(store)': 296.93333, 'X3(gym)': 666.23107, 'X4(garden)': 0.0}\n",
            "  Status: 1\n",
            "--------------------------------------------------\n",
            "Results for Area 22013:\n",
            "  Optimal Value: 8544284550.400539\n",
            "  Optimal Variables: {'I2(room)': 213, 'X1(kitchen)': 446.05089, 'X2(store)': 924.00247, 'X3(gym)': 2073.1898, 'X4(garden)': 0.0}\n",
            "  Status: 1\n",
            "--------------------------------------------------\n"
          ]
        }
      ]
    },
    {
      "cell_type": "code",
      "source": [
        "# 3인실 한 개 --> 2인실 4개,  x*3+x*4*2 = x*11, 11배 곱하면 인원\n",
        "#1408, 319, 1133"
      ],
      "metadata": {
        "id": "xMXC38_EU4rP"
      },
      "execution_count": null,
      "outputs": []
    }
  ]
}