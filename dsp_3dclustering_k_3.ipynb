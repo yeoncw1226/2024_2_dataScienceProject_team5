{
  "nbformat": 4,
  "nbformat_minor": 0,
  "metadata": {
    "colab": {
      "provenance": [],
      "authorship_tag": "ABX9TyMyQ5IDr78t+cjIlyNo6M37",
      "include_colab_link": true
    },
    "kernelspec": {
      "name": "python3",
      "display_name": "Python 3"
    },
    "language_info": {
      "name": "python"
    }
  },
  "cells": [
    {
      "cell_type": "markdown",
      "metadata": {
        "id": "view-in-github",
        "colab_type": "text"
      },
      "source": [
        "<a href=\"https://colab.research.google.com/github/yeoncw1226/2024_2_dataScienceProject_team5/blob/main/dsp_3dclustering_k_3.ipynb\" target=\"_parent\"><img src=\"https://colab.research.google.com/assets/colab-badge.svg\" alt=\"Open In Colab\"/></a>"
      ]
    },
    {
      "cell_type": "markdown",
      "source": [
        " I used 3d clustering for districts(구) in Seoul to find reasonable place for building international dormitory. I used three variables; commute time from dormitory to universities in Seoul, average land cost, and number of international students in that districts.\n",
        "\n",
        "**I will describe the data used for the analyze.**\n",
        "\n",
        "\n",
        " I used k-mean, k-medoid, hierarchical clustering, and DBSCAN to cluster districts and find the best association.\n",
        " For choosing k, I used elbow method, resulted as k = 3 for all 3 methods.\n",
        "\n",
        "for each clusterings, plotted first and if hard to choose cluster,\n",
        "\n",
        "find **argmax(numIntl-commuteTime-landCost)**\n",
        "\n",
        "Finally, get majority vote from k-mean, k-medoid, hierarchical\n",
        "\n",
        "--> 광진구, 동대문구, 서대문구"
      ],
      "metadata": {
        "id": "bsxZUPCs4NP6"
      }
    },
    {
      "cell_type": "code",
      "source": [
        "'''\n",
        "1. get 4 random points from each districts.\n",
        "2. get mean commute time from random points to universities in Seoul for each districts.\n",
        "3. In 2, get # of intl students in university as a weight.\n",
        "'''\n",
        "commuteTime = {'강남구': 60.0, '강동구': 61.0, '강북구': 48.0, '강서구': 58.0,    '관악구': 66.0, '광진구': 46.0, '구로구': 66.0, '금천구': 75.0,\n",
        "               '노원구': 57.0, '도봉구': 65.0, '동대문구': 42.0, '동작구': 50.0, '마포구': 47.0, '서대문구': 40.0, '서초구': 57.0, '성동구': 37.0,\n",
        "               '성북구': 85.0, '송파구': 62.0, '양천구': 62.0, '영등포구': 46.0, '용산구': 40.0, '은평구': 53.0, '종로구': 42.0, '중구': 35.0, '중랑구': 53.0}\n",
        "\n",
        "\n",
        "# Use Officially announced land price for each neighborhood, get mean value for each districts.\n",
        "\n",
        "landCost = {\n",
        " '강남구': 11922940, '강동구': 4136539, '강북구': 2642841, '강서구': 2847634,'관악구': 3986627, '광진구': 4371127, '구로구': 2900773, '금천구': 2930902,\n",
        " '노원구': 2559028, '도봉구': 2390374, '동대문구': 3783838, '동작구': 4280654, '마포구': 6174009, '서대문구': 3771586, '서초구': 7218511, '성동구': 4884766,\n",
        " '성북구': 3190132, '송파구': 5971945, '양천구': 3399776, '영등포구': 4503093, '용산구': 6812532, '은평구': 3166812, '종로구': 5937878, '중구': 9949269, '중랑구': 2983133}\n",
        "\n",
        "\n",
        "# number of foreigns, especially international students\n",
        "numIntl = {'강남구': 426, '강동구': 296, '강북구': 1881, '강서구': 305, '관악구': 4369, '광진구': 6768, '구로구': 570,\n",
        "           '금천구': 244, '노원구': 2238, '도봉구': 680, '동대문구': 11744, '동작구': 4647, '마포구': 3927, '서대문구': 7732,\n",
        "           '서초구': 283, '성동구': 3163, '성북구': 7489, '송파구': 252, '양천구': 126, '영등포구': 896, '용산구': 1037,\n",
        "           '은평구': 368, '종로구': 5452, '중구': 3051, '중랑구': 1150}\n",
        "\n",
        "\n",
        "\n",
        "#commuteTime and landcost should be low, numIntl should be high."
      ],
      "metadata": {
        "id": "ipFBOfBi6HrS"
      },
      "execution_count": null,
      "outputs": []
    },
    {
      "cell_type": "markdown",
      "source": [
        "for commuteTime, 유민선's code; commute time by transportation from <random 4 points in each districts> to universities, then multiply # of intl in universities as weights.\n",
        "\n",
        "landcost: 공시지가 평균\n",
        "\n",
        "numIntl: 서울시 외국인주민; 유학생 카테고리\n"
      ],
      "metadata": {
        "id": "ekoqcRzr-GDU"
      }
    },
    {
      "cell_type": "code",
      "source": [
        "#elbow method for k-mean\n",
        "import pandas as pd\n",
        "from sklearn.cluster import KMeans\n",
        "import matplotlib.pyplot as plt\n",
        "\n",
        "# Data\n",
        "commuteTime = {'강남구': 60.0, '강동구': 61.0, '강북구': 48.0, '강서구': 58.0,\n",
        "               '관악구': 66.0, '광진구': 46.0, '구로구': 66.0, '금천구': 75.0,\n",
        "               '노원구': 57.0, '도봉구': 65.0, '동대문구': 42.0, '동작구': 50.0,\n",
        "               '마포구': 47.0, '서대문구': 40.0, '서초구': 57.0, '성동구': 37.0,\n",
        "               '성북구': 85.0, '송파구': 62.0, '양천구': 62.0, '영등포구': 46.0,\n",
        "               '용산구': 40.0, '은평구': 53.0, '종로구': 42.0, '중구': 35.0,\n",
        "               '중랑구': 53.0}\n",
        "\n",
        "landCost = {\n",
        " '강남구': 11922940, '강동구': 4136539, '강북구': 2642841, '강서구': 2847634,'관악구': 3986627, '광진구': 4371127, '구로구': 2900773, '금천구': 2930902,\n",
        " '노원구': 2559028, '도봉구': 2390374, '동대문구': 3783838, '동작구': 4280654, '마포구': 6174009, '서대문구': 3771586, '서초구': 7218511, '성동구': 4884766,\n",
        " '성북구': 3190132, '송파구': 5971945, '양천구': 3399776, '영등포구': 4503093, '용산구': 6812532, '은평구': 3166812, '종로구': 5937878, '중구': 9949269, '중랑구': 2983133}\n",
        "\n",
        "\n",
        "numIntl = {'강남구': 426, '강동구': 296, '강북구': 1881, '강서구': 305, '관악구': 4369, '광진구': 6768, '구로구': 570,\n",
        "           '금천구': 244, '노원구': 2238, '도봉구': 680, '동대문구': 11744, '동작구': 4647, '마포구': 3927, '서대문구': 7732,\n",
        "           '서초구': 283, '성동구': 3163, '성북구': 7489, '송파구': 252, '양천구': 126, '영등포구': 896, '용산구': 1037,\n",
        "           '은평구': 368, '종로구': 5452, '중구': 3051, '중랑구': 1150}\n",
        "\n",
        "# DataFrame\n",
        "df = pd.DataFrame({\n",
        "    'District': commuteTime.keys(),\n",
        "    'CommuteTime': commuteTime.values(),\n",
        "    'LandCost': landCost.values(),\n",
        "    'NumIntl': numIntl.values()\n",
        "})\n",
        "\n",
        "\n",
        "# Calculate inertia for different values of k\n",
        "inertia = []\n",
        "k_values = range(1, 11)  # Testing k from 1 to 10\n",
        "\n",
        "for k in k_values:\n",
        "    kmeans = KMeans(n_clusters=k, random_state=0)\n",
        "    kmeans.fit(df[['CommuteTime', 'LandCost', 'NumIntl']])\n",
        "    inertia.append(kmeans.inertia_)\n",
        "\n",
        "# Plot the Elbow Method\n",
        "plt.figure(figsize=(8, 6))\n",
        "plt.plot(k_values, inertia, marker='o', linestyle='-', color='b')\n",
        "plt.xlabel('Number of Clusters (k)')\n",
        "plt.ylabel('Inertia')\n",
        "plt.title('Elbow Method for Optimal k')\n",
        "plt.xticks(k_values)\n",
        "plt.grid(True)\n",
        "plt.show()"
      ],
      "metadata": {
        "colab": {
          "base_uri": "https://localhost:8080/",
          "height": 564
        },
        "id": "3Q804l-76AIt",
        "outputId": "943bda3d-3782-41d2-d868-b0b8fc234499"
      },
      "execution_count": null,
      "outputs": [
        {
          "output_type": "display_data",
          "data": {
            "text/plain": [
              "<Figure size 800x600 with 1 Axes>"
            ],
            "image/png": "[encoded data removed]"
          },
          "metadata": {}
        }
      ]
    },
    {
      "cell_type": "markdown",
      "source": [
        "# when 1<=k<=3, slopes decrease radpidly, after 3, decrease slowly\n",
        "# --> k = 3"
      ],
      "metadata": {
        "id": "QFkKm5nF6-Jh"
      }
    },
    {
      "cell_type": "code",
      "source": [
        "#k-mean\n",
        "import pandas as pd\n",
        "from sklearn.cluster import KMeans\n",
        "from sklearn.preprocessing import MinMaxScaler\n",
        "import plotly.graph_objects as go\n",
        "import numpy as np\n",
        "\n",
        "np.set_printoptions(suppress=True)\n",
        "\n",
        "# 데이터 정규화\n",
        "scaler = MinMaxScaler()\n",
        "normalized_data = scaler.fit_transform(df[['CommuteTime', 'LandCost', 'NumIntl']])\n",
        "\n",
        "# K-Means Clustering (정규화 데이터)\n",
        "num_clusters = 3\n",
        "kmeans_normalized = KMeans(n_clusters=num_clusters, random_state=0)\n",
        "df['Cluster_Kmean_Normalized'] = kmeans_normalized.fit_predict(normalized_data)\n",
        "\n",
        "# 정규화 데이터의 클러스터 중심 출력\n",
        "print(\"\\nCluster Centers (Normalized Data):\")\n",
        "print('(Normalized Commute Time, Normalized Land Cost, Normalized NumIntl)')\n",
        "for i, center in enumerate(kmeans_normalized.cluster_centers_):\n",
        "    print(f\"Cluster {i + 1}: {center}\")\n",
        "\n",
        "# Cluster 1에 속하는 지역 출력\n",
        "cluster_1_districts = df[df['Cluster_Kmean_Normalized'] == 0]['District']\n",
        "print(\"\\nDistricts in Cluster 1 (Normalized Data):\")\n",
        "print(cluster_1_districts.tolist())\n",
        "\n",
        "# Plotly 3D Scatter Plot (정규화 데이터)\n",
        "fig = go.Figure()\n",
        "\n",
        "# Add clusters\n",
        "colors = ['red', 'green', 'blue']\n",
        "for cluster in range(num_clusters):\n",
        "    cluster_data = df[df['Cluster_Kmean_Normalized'] == cluster]\n",
        "    fig.add_trace(go.Scatter3d(\n",
        "        x=normalized_data[df['Cluster_Kmean_Normalized'] == cluster][:, 0],\n",
        "        y=normalized_data[df['Cluster_Kmean_Normalized'] == cluster][:, 1],\n",
        "        z=normalized_data[df['Cluster_Kmean_Normalized'] == cluster][:, 2],\n",
        "        mode='markers',\n",
        "        marker=dict(size=5, color=colors[cluster]),\n",
        "        name=f'Cluster {cluster + 1}'\n",
        "    ))\n",
        "\n",
        "# Add centroids\n",
        "fig.add_trace(go.Scatter3d(\n",
        "    x=kmeans_normalized.cluster_centers_[:, 0],\n",
        "    y=kmeans_normalized.cluster_centers_[:, 1],\n",
        "    z=kmeans_normalized.cluster_centers_[:, 2],\n",
        "    mode='markers',\n",
        "    marker=dict(size=10, color='black', symbol='x'),\n",
        "    name='Centroids'\n",
        "))\n",
        "\n",
        "# Layout\n",
        "fig.update_layout(\n",
        "    scene=dict(\n",
        "        xaxis_title='Normalized Commute Time',\n",
        "        yaxis_title='Normalized Land Cost',\n",
        "        zaxis_title='Normalized Number of Intl. Schools'\n",
        "    ),\n",
        "    title='3D K-Means Clustering (Normalized Data)',\n",
        "    showlegend=True\n",
        ")\n",
        "\n",
        "fig.show()"
      ],
      "metadata": {
        "colab": {
          "base_uri": "https://localhost:8080/",
          "height": 706
        },
        "id": "-hgzJNH0PJAw",
        "outputId": "4e351efc-e87d-4cdf-94a9-edb3cfa15fac"
      },
      "execution_count": null,
      "outputs": [
        {
          "output_type": "stream",
          "name": "stdout",
          "text": [
            "\n",
            "Cluster Centers (Normalized Data):\n",
            "(Normalized Commute Time, Normalized Land Cost, Normalized NumIntl)\n",
            "Cluster 1: [0.15333333 0.16628713 0.74212429]\n",
            "Cluster 2: [0.54769231 0.09708948 0.1213634 ]\n",
            "Cluster 3: [0.22       0.46822284 0.20799143]\n",
            "\n",
            "Districts in Cluster 1 (Normalized Data):\n",
            "['광진구', '동대문구', '서대문구']\n"
          ]
        },
        {
          "output_type": "display_data",
          "data": {
            "text/html": [
              "<html>\n",
              "<head><meta charset=\"utf-8\" /></head>\n",
              "<body>\n",
              "    <div>            <script src=\"https://cdnjs.cloudflare.com/ajax/libs/mathjax/2.7.5/MathJax.js?config=TeX-AMS-MML_SVG\"></script><script type=\"text/javascript\">if (window.MathJax && window.MathJax.Hub && window.MathJax.Hub.Config) {window.MathJax.Hub.Config({SVG: {font: \"STIX-Web\"}});}</script>                <script type=\"text/javascript\">window.PlotlyConfig = {MathJaxConfig: 'local'};</script>\n",
              "        <script charset=\"utf-8\" src=\"https://cdn.plot.ly/plotly-2.35.2.min.js\"></script>                <div id=\"57b89d9d-212f-4dbf-b4a4-879da88fff47\" class=\"plotly-graph-div\" style=\"height:525px; width:100%;\"></div>            <script type=\"text/javascript\">                                    window.PLOTLYENV=window.PLOTLYENV || {};                                    if (document.getElementById(\"57b89d9d-212f-4dbf-b4a4-879da88fff47\")) {                    Plotly.newPlot(                        \"57b89d9d-212f-4dbf-b4a4-879da88fff47\",                        [{\"marker\":{\"color\":\"red\",\"size\":5},\"mode\":\"markers\",\"name\":\"Cluster 1\",\"x\":[0.21999999999999997,0.1399999999999999,0.09999999999999998],\"y\":[0.2077880184621853,0.14617931834933007,0.14489404007273593],\"z\":[0.5716990876226544,0.9999999999999999,0.6546737820623171],\"type\":\"scatter3d\"},{\"marker\":{\"color\":\"green\",\"size\":5},\"mode\":\"markers\",\"name\":\"Cluster 2\",\"x\":[0.5199999999999999,0.2599999999999999,0.45999999999999985,0.62,0.62,0.7999999999999999,0.44000000000000006,0.6,0.9999999999999999,0.5399999999999999,0.5399999999999999,0.36,0.36],\"y\":[0.1831789048195418,0.026484684186818097,0.04796819660099916,0.16745260405225626,0.05354266626635473,0.05670330528002637,0.017692403073841845,0.0,0.08389745216555544,0.37571950721348274,0.10588985169365733,0.08145110141382711,0.06218252252331641],\"z\":[0.014632466861766223,0.15105870201411603,0.015407126872095023,0.36520915820278876,0.03821656050955414,0.010156653468755378,0.1817868824238251,0.047684627302461695,0.6337579617834395,0.010845240144603202,0.0,0.02082974694439662,0.08813909450852125],\"type\":\"scatter3d\"},{\"marker\":{\"color\":\"blue\",\"size\":5},\"mode\":\"markers\",\"name\":\"Cluster 3\",\"x\":[0.4999999999999999,0.29999999999999993,0.24,0.44000000000000006,0.039999999999999925,0.21999999999999997,0.09999999999999998,0.1399999999999999,0.0],\"y\":[1.0,0.19829707971599675,0.39691673784372433,0.5064887040907977,0.26167057222577844,0.22163172014754473,0.46390006636198483,0.37214575802569844,0.7929549084685068],\"z\":[0.025822000344293335,0.3891375451885006,0.32716474436219656,0.013513513513513513,0.26140471681872957,0.06627646755035291,0.07841280771217077,0.4584265794456877,0.25176450335686],\"type\":\"scatter3d\"},{\"marker\":{\"color\":\"black\",\"size\":10,\"symbol\":\"x\"},\"mode\":\"markers\",\"name\":\"Centroids\",\"x\":[0.1533333333333333,0.5476923076923077,0.21999999999999995],\"y\":[0.1662871256280838,0.09708947686843672,0.4682228385422258],\"z\":[0.7421242898949904,0.12136340161817867,0.2079914309213672],\"type\":\"scatter3d\"}],                        {\"template\":{\"data\":{\"histogram2dcontour\":[{\"type\":\"histogram2dcontour\",\"colorbar\":{\"outlinewidth\":0,\"ticks\":\"\"},\"colorscale\":[[0.0,\"#0d0887\"],[0.1111111111111111,\"#46039f\"],[0.2222222222222222,\"#7201a8\"],[0.3333333333333333,\"#9c179e\"],[0.4444444444444444,\"#bd3786\"],[0.5555555555555556,\"#d8576b\"],[0.6666666666666666,\"#ed7953\"],[0.7777777777777778,\"#fb9f3a\"],[0.8888888888888888,\"#fdca26\"],[1.0,\"#f0f921\"]]}],\"choropleth\":[{\"type\":\"choropleth\",\"colorbar\":{\"outlinewidth\":0,\"ticks\":\"\"}}],\"histogram2d\":[{\"type\":\"histogram2d\",\"colorbar\":{\"outlinewidth\":0,\"ticks\":\"\"},\"colorscale\":[[0.0,\"#0d0887\"],[0.1111111111111111,\"#46039f\"],[0.2222222222222222,\"#7201a8\"],[0.3333333333333333,\"#9c179e\"],[0.4444444444444444,\"#bd3786\"],[0.5555555555555556,\"#d8576b\"],[0.6666666666666666,\"#ed7953\"],[0.7777777777777778,\"#fb9f3a\"],[0.8888888888888888,\"#fdca26\"],[1.0,\"#f0f921\"]]}],\"heatmap\":[{\"type\":\"heatmap\",\"colorbar\":{\"outlinewidth\":0,\"ticks\":\"\"},\"colorscale\":[[0.0,\"#0d0887\"],[0.1111111111111111,\"#46039f\"],[0.2222222222222222,\"#7201a8\"],[0.3333333333333333,\"#9c179e\"],[0.4444444444444444,\"#bd3786\"],[0.5555555555555556,\"#d8576b\"],[0.6666666666666666,\"#ed7953\"],[0.7777777777777778,\"#fb9f3a\"],[0.8888888888888888,\"#fdca26\"],[1.0,\"#f0f921\"]]}],\"heatmapgl\":[{\"type\":\"heatmapgl\",\"colorbar\":{\"outlinewidth\":0,\"ticks\":\"\"},\"colorscale\":[[0.0,\"#0d0887\"],[0.1111111111111111,\"#46039f\"],[0.2222222222222222,\"#7201a8\"],[0.3333333333333333,\"#9c179e\"],[0.4444444444444444,\"#bd3786\"],[0.5555555555555556,\"#d8576b\"],[0.6666666666666666,\"#ed7953\"],[0.7777777777777778,\"#fb9f3a\"],[0.8888888888888888,\"#fdca26\"],[1.0,\"#f0f921\"]]}],\"contourcarpet\":[{\"type\":\"contourcarpet\",\"colorbar\":{\"outlinewidth\":0,\"ticks\":\"\"}}],\"contour\":[{\"type\":\"contour\",\"colorbar\":{\"outlinewidth\":0,\"ticks\":\"\"},\"colorscale\":[[0.0,\"#0d0887\"],[0.1111111111111111,\"#46039f\"],[0.2222222222222222,\"#7201a8\"],[0.3333333333333333,\"#9c179e\"],[0.4444444444444444,\"#bd3786\"],[0.5555555555555556,\"#d8576b\"],[0.6666666666666666,\"#ed7953\"],[0.7777777777777778,\"#fb9f3a\"],[0.8888888888888888,\"#fdca26\"],[1.0,\"#f0f921\"]]}],\"surface\":[{\"type\":\"surface\",\"colorbar\":{\"outlinewidth\":0,\"ticks\":\"\"},\"colorscale\":[[0.0,\"#0d0887\"],[0.1111111111111111,\"#46039f\"],[0.2222222222222222,\"#7201a8\"],[0.3333333333333333,\"#9c179e\"],[0.4444444444444444,\"#bd3786\"],[0.5555555555555556,\"#d8576b\"],[0.6666666666666666,\"#ed7953\"],[0.7777777777777778,\"#fb9f3a\"],[0.8888888888888888,\"#fdca26\"],[1.0,\"#f0f921\"]]}],\"mesh3d\":[{\"type\":\"mesh3d\",\"colorbar\":{\"outlinewidth\":0,\"ticks\":\"\"}}],\"scatter\":[{\"fillpattern\":{\"fillmode\":\"overlay\",\"size\":10,\"solidity\":0.2},\"type\":\"scatter\"}],\"parcoords\":[{\"type\":\"parcoords\",\"line\":{\"colorbar\":{\"outlinewidth\":0,\"ticks\":\"\"}}}],\"scatterpolargl\":[{\"type\":\"scatterpolargl\",\"marker\":{\"colorbar\":{\"outlinewidth\":0,\"ticks\":\"\"}}}],\"bar\":[{\"error_x\":{\"color\":\"#2a3f5f\"},\"error_y\":{\"color\":\"#2a3f5f\"},\"marker\":{\"line\":{\"color\":\"#E5ECF6\",\"width\":0.5},\"pattern\":{\"fillmode\":\"overlay\",\"size\":10,\"solidity\":0.2}},\"type\":\"bar\"}],\"scattergeo\":[{\"type\":\"scattergeo\",\"marker\":{\"colorbar\":{\"outlinewidth\":0,\"ticks\":\"\"}}}],\"scatterpolar\":[{\"type\":\"scatterpolar\",\"marker\":{\"colorbar\":{\"outlinewidth\":0,\"ticks\":\"\"}}}],\"histogram\":[{\"marker\":{\"pattern\":{\"fillmode\":\"overlay\",\"size\":10,\"solidity\":0.2}},\"type\":\"histogram\"}],\"scattergl\":[{\"type\":\"scattergl\",\"marker\":{\"colorbar\":{\"outlinewidth\":0,\"ticks\":\"\"}}}],\"scatter3d\":[{\"type\":\"scatter3d\",\"line\":{\"colorbar\":{\"outlinewidth\":0,\"ticks\":\"\"}},\"marker\":{\"colorbar\":{\"outlinewidth\":0,\"ticks\":\"\"}}}],\"scattermapbox\":[{\"type\":\"scattermapbox\",\"marker\":{\"colorbar\":{\"outlinewidth\":0,\"ticks\":\"\"}}}],\"scatterternary\":[{\"type\":\"scatterternary\",\"marker\":{\"colorbar\":{\"outlinewidth\":0,\"ticks\":\"\"}}}],\"scattercarpet\":[{\"type\":\"scattercarpet\",\"marker\":{\"colorbar\":{\"outlinewidth\":0,\"ticks\":\"\"}}}],\"carpet\":[{\"aaxis\":{\"endlinecolor\":\"#2a3f5f\",\"gridcolor\":\"white\",\"linecolor\":\"white\",\"minorgridcolor\":\"white\",\"startlinecolor\":\"#2a3f5f\"},\"baxis\":{\"endlinecolor\":\"#2a3f5f\",\"gridcolor\":\"white\",\"linecolor\":\"white\",\"minorgridcolor\":\"white\",\"startlinecolor\":\"#2a3f5f\"},\"type\":\"carpet\"}],\"table\":[{\"cells\":{\"fill\":{\"color\":\"#EBF0F8\"},\"line\":{\"color\":\"white\"}},\"header\":{\"fill\":{\"color\":\"#C8D4E3\"},\"line\":{\"color\":\"white\"}},\"type\":\"table\"}],\"barpolar\":[{\"marker\":{\"line\":{\"color\":\"#E5ECF6\",\"width\":0.5},\"pattern\":{\"fillmode\":\"overlay\",\"size\":10,\"solidity\":0.2}},\"type\":\"barpolar\"}],\"pie\":[{\"automargin\":true,\"type\":\"pie\"}]},\"layout\":{\"autotypenumbers\":\"strict\",\"colorway\":[\"#636efa\",\"#EF553B\",\"#00cc96\",\"#ab63fa\",\"#FFA15A\",\"#19d3f3\",\"#FF6692\",\"#B6E880\",\"#FF97FF\",\"#FECB52\"],\"font\":{\"color\":\"#2a3f5f\"},\"hovermode\":\"closest\",\"hoverlabel\":{\"align\":\"left\"},\"paper_bgcolor\":\"white\",\"plot_bgcolor\":\"#E5ECF6\",\"polar\":{\"bgcolor\":\"#E5ECF6\",\"angularaxis\":{\"gridcolor\":\"white\",\"linecolor\":\"white\",\"ticks\":\"\"},\"radialaxis\":{\"gridcolor\":\"white\",\"linecolor\":\"white\",\"ticks\":\"\"}},\"ternary\":{\"bgcolor\":\"#E5ECF6\",\"aaxis\":{\"gridcolor\":\"white\",\"linecolor\":\"white\",\"ticks\":\"\"},\"baxis\":{\"gridcolor\":\"white\",\"linecolor\":\"white\",\"ticks\":\"\"},\"caxis\":{\"gridcolor\":\"white\",\"linecolor\":\"white\",\"ticks\":\"\"}},\"coloraxis\":{\"colorbar\":{\"outlinewidth\":0,\"ticks\":\"\"}},\"colorscale\":{\"sequential\":[[0.0,\"#0d0887\"],[0.1111111111111111,\"#46039f\"],[0.2222222222222222,\"#7201a8\"],[0.3333333333333333,\"#9c179e\"],[0.4444444444444444,\"#bd3786\"],[0.5555555555555556,\"#d8576b\"],[0.6666666666666666,\"#ed7953\"],[0.7777777777777778,\"#fb9f3a\"],[0.8888888888888888,\"#fdca26\"],[1.0,\"#f0f921\"]],\"sequentialminus\":[[0.0,\"#0d0887\"],[0.1111111111111111,\"#46039f\"],[0.2222222222222222,\"#7201a8\"],[0.3333333333333333,\"#9c179e\"],[0.4444444444444444,\"#bd3786\"],[0.5555555555555556,\"#d8576b\"],[0.6666666666666666,\"#ed7953\"],[0.7777777777777778,\"#fb9f3a\"],[0.8888888888888888,\"#fdca26\"],[1.0,\"#f0f921\"]],\"diverging\":[[0,\"#8e0152\"],[0.1,\"#c51b7d\"],[0.2,\"#de77ae\"],[0.3,\"#f1b6da\"],[0.4,\"#fde0ef\"],[0.5,\"#f7f7f7\"],[0.6,\"#e6f5d0\"],[0.7,\"#b8e186\"],[0.8,\"#7fbc41\"],[0.9,\"#4d9221\"],[1,\"#276419\"]]},\"xaxis\":{\"gridcolor\":\"white\",\"linecolor\":\"white\",\"ticks\":\"\",\"title\":{\"standoff\":15},\"zerolinecolor\":\"white\",\"automargin\":true,\"zerolinewidth\":2},\"yaxis\":{\"gridcolor\":\"white\",\"linecolor\":\"white\",\"ticks\":\"\",\"title\":{\"standoff\":15},\"zerolinecolor\":\"white\",\"automargin\":true,\"zerolinewidth\":2},\"scene\":{\"xaxis\":{\"backgroundcolor\":\"#E5ECF6\",\"gridcolor\":\"white\",\"linecolor\":\"white\",\"showbackground\":true,\"ticks\":\"\",\"zerolinecolor\":\"white\",\"gridwidth\":2},\"yaxis\":{\"backgroundcolor\":\"#E5ECF6\",\"gridcolor\":\"white\",\"linecolor\":\"white\",\"showbackground\":true,\"ticks\":\"\",\"zerolinecolor\":\"white\",\"gridwidth\":2},\"zaxis\":{\"backgroundcolor\":\"#E5ECF6\",\"gridcolor\":\"white\",\"linecolor\":\"white\",\"showbackground\":true,\"ticks\":\"\",\"zerolinecolor\":\"white\",\"gridwidth\":2}},\"shapedefaults\":{\"line\":{\"color\":\"#2a3f5f\"}},\"annotationdefaults\":{\"arrowcolor\":\"#2a3f5f\",\"arrowhead\":0,\"arrowwidth\":1},\"geo\":{\"bgcolor\":\"white\",\"landcolor\":\"#E5ECF6\",\"subunitcolor\":\"white\",\"showland\":true,\"showlakes\":true,\"lakecolor\":\"white\"},\"title\":{\"x\":0.05},\"mapbox\":{\"style\":\"light\"}}},\"scene\":{\"xaxis\":{\"title\":{\"text\":\"Normalized Commute Time\"}},\"yaxis\":{\"title\":{\"text\":\"Normalized Land Cost\"}},\"zaxis\":{\"title\":{\"text\":\"Normalized Number of Intl. Schools\"}}},\"title\":{\"text\":\"3D K-Means Clustering (Normalized Data)\"},\"showlegend\":true},                        {\"responsive\": true}                    ).then(function(){\n",
              "                            \n",
              "var gd = document.getElementById('57b89d9d-212f-4dbf-b4a4-879da88fff47');\n",
              "var x = new MutationObserver(function (mutations, observer) {{\n",
              "        var display = window.getComputedStyle(gd).display;\n",
              "        if (!display || display === 'none') {{\n",
              "            console.log([gd, 'removed!']);\n",
              "            Plotly.purge(gd);\n",
              "            observer.disconnect();\n",
              "        }}\n",
              "}});\n",
              "\n",
              "// Listen for the removal of the full notebook cells\n",
              "var notebookContainer = gd.closest('#notebook-container');\n",
              "if (notebookContainer) {{\n",
              "    x.observe(notebookContainer, {childList: true});\n",
              "}}\n",
              "\n",
              "// Listen for the clearing of the current output cell\n",
              "var outputEl = gd.closest('.output');\n",
              "if (outputEl) {{\n",
              "    x.observe(outputEl, {childList: true});\n",
              "}}\n",
              "\n",
              "                        })                };                            </script>        </div>\n",
              "</body>\n",
              "</html>"
            ]
          },
          "metadata": {}
        }
      ]
    },
    {
      "cell_type": "markdown",
      "source": [
        "Selected 구 by k-mean: ['광진구', '동대문구', '서대문구']"
      ],
      "metadata": {
        "id": "yh35BvfjJ_eD"
      }
    },
    {
      "cell_type": "code",
      "source": [
        "!pip install scikit-learn-extra"
      ],
      "metadata": {
        "colab": {
          "base_uri": "https://localhost:8080/"
        },
        "id": "ETRnyktg_tC1",
        "outputId": "95ab58ac-a66c-467c-c15c-6a6c784709c1"
      },
      "execution_count": null,
      "outputs": [
        {
          "output_type": "stream",
          "name": "stdout",
          "text": [
            "Collecting scikit-learn-extra\n",
            "  Downloading scikit_learn_extra-0.3.0-cp310-cp310-manylinux_2_17_x86_64.manylinux2014_x86_64.whl.metadata (3.6 kB)\n",
            "Requirement already satisfied: numpy>=1.13.3 in /usr/local/lib/python3.10/dist-packages (from scikit-learn-extra) (1.26.4)\n",
            "Requirement already satisfied: scipy>=0.19.1 in /usr/local/lib/python3.10/dist-packages (from scikit-learn-extra) (1.13.1)\n",
            "Requirement already satisfied: scikit-learn>=0.23.0 in /usr/local/lib/python3.10/dist-packages (from scikit-learn-extra) (1.5.2)\n",
            "Requirement already satisfied: joblib>=1.2.0 in /usr/local/lib/python3.10/dist-packages (from scikit-learn>=0.23.0->scikit-learn-extra) (1.4.2)\n",
            "Requirement already satisfied: threadpoolctl>=3.1.0 in /usr/local/lib/python3.10/dist-packages (from scikit-learn>=0.23.0->scikit-learn-extra) (3.5.0)\n",
            "Downloading scikit_learn_extra-0.3.0-cp310-cp310-manylinux_2_17_x86_64.manylinux2014_x86_64.whl (2.0 MB)\n",
            "\u001b[2K   \u001b[90m━━━━━━━━━━━━━━━━━━━━━━━━━━━━━━━━━━━━━━━━\u001b[0m \u001b[32m2.0/2.0 MB\u001b[0m \u001b[31m20.7 MB/s\u001b[0m eta \u001b[36m0:00:00\u001b[0m\n",
            "\u001b[?25hInstalling collected packages: scikit-learn-extra\n",
            "Successfully installed scikit-learn-extra-0.3.0\n"
          ]
        }
      ]
    },
    {
      "cell_type": "code",
      "source": [
        "#elbow method for k-medoid\n",
        "import pandas as pd\n",
        "from sklearn_extra.cluster import KMedoids\n",
        "import matplotlib.pyplot as plt\n",
        "\n",
        "\n",
        "\n",
        "# DataFrame\n",
        "df = pd.DataFrame({\n",
        "    'District': commuteTime.keys(),\n",
        "    'CommuteTime': commuteTime.values(),\n",
        "    'LandCost': landCost.values(),\n",
        "    'NumIntl': numIntl.values()\n",
        "})\n",
        "\n",
        "\n",
        "# Calculate inertia for different values of k\n",
        "inertia = []\n",
        "k_values = range(1, 11)  # Testing k from 1 to 10\n",
        "\n",
        "for k in k_values:\n",
        "    kmeans = KMedoids(n_clusters=k, random_state=0)\n",
        "    kmeans.fit(df[['CommuteTime', 'LandCost', 'NumIntl']])\n",
        "    inertia.append(kmeans.inertia_)\n",
        "\n",
        "# Plot the Elbow Method\n",
        "plt.figure(figsize=(8, 6))\n",
        "plt.plot(k_values, inertia, marker='o', linestyle='-', color='b')\n",
        "plt.xlabel('Number of Clusters (k)')\n",
        "plt.ylabel('Inertia')\n",
        "plt.title('Elbow Method for Optimal k')\n",
        "plt.xticks(k_values)\n",
        "plt.grid(True)\n",
        "plt.show()"
      ],
      "metadata": {
        "colab": {
          "base_uri": "https://localhost:8080/",
          "height": 564
        },
        "id": "T73AFdR68Pm1",
        "outputId": "60613218-0abe-4590-e6bf-f57ed2b68666"
      },
      "execution_count": null,
      "outputs": [
        {
          "output_type": "display_data",
          "data": {
            "text/plain": [
              "<Figure size 800x600 with 1 Axes>"
            ],
            "image/png": "[encoded data removed]"
          },
          "metadata": {}
        }
      ]
    },
    {
      "cell_type": "markdown",
      "source": [
        "for k-medoid, k=3 is appropriate"
      ],
      "metadata": {
        "id": "aI2TtRtb8cJp"
      }
    },
    {
      "cell_type": "code",
      "source": [
        "#k-medoid\n",
        "import pandas as pd\n",
        "import numpy as np\n",
        "from sklearn_extra.cluster import KMedoids\n",
        "import plotly.graph_objects as go\n",
        "\n",
        "np.set_printoptions(suppress=True)\n",
        "\n",
        "# K-Medoids Clustering (원본 데이터)\n",
        "from sklearn.preprocessing import MinMaxScaler\n",
        "from sklearn_extra.cluster import KMedoids\n",
        "import plotly.graph_objects as go\n",
        "import pandas as pd\n",
        "import numpy as np\n",
        "\n",
        "np.set_printoptions(suppress=True)\n",
        "\n",
        "# 데이터 정규화\n",
        "scaler = MinMaxScaler()\n",
        "normalized_data = scaler.fit_transform(df[['CommuteTime', 'LandCost', 'NumIntl']])\n",
        "\n",
        "# K-Medoids Clustering (정규화 데이터)\n",
        "kmedoids = KMedoids(n_clusters=num_clusters, random_state=0, metric='euclidean')\n",
        "df['Cluster_Kmedoid_Normalized'] = kmedoids.fit_predict(normalized_data)\n",
        "\n",
        "# Cluster Centers (Medoids, 정규화 데이터)\n",
        "medoids_normalized = kmedoids.cluster_centers_\n",
        "\n",
        "# Print Cluster Centers (Medoids, 정규화 데이터)\n",
        "print(\"Cluster Centers (Medoids, Normalized Data):\")\n",
        "print('(Normalized Commute Time, Normalized Land Cost, Normalized NumIntl)')\n",
        "for i, center in enumerate(medoids_normalized):\n",
        "    print(f\"Cluster {i + 1}: {center}\")\n",
        "\n",
        "# Filter districts that belong to each cluster (정규화 데이터 기준)\n",
        "for cluster in range(num_clusters):\n",
        "    cluster_districts = df[df['Cluster_Kmedoid_Normalized'] == cluster]['District']\n",
        "    print(f\"\\nDistricts in Cluster {cluster + 1}:\")\n",
        "    print(cluster_districts.tolist())\n",
        "\n",
        "# Plotly 3D Scatter Plot (정규화 데이터)\n",
        "fig = go.Figure()\n",
        "\n",
        "# Add clusters\n",
        "colors = ['red', 'green', 'blue']\n",
        "for cluster in range(num_clusters):\n",
        "    cluster_data = df[df['Cluster_Kmedoid_Normalized'] == cluster]\n",
        "    fig.add_trace(go.Scatter3d(\n",
        "        x=normalized_data[df['Cluster_Kmedoid_Normalized'] == cluster][:, 0],\n",
        "        y=normalized_data[df['Cluster_Kmedoid_Normalized'] == cluster][:, 1],\n",
        "        z=normalized_data[df['Cluster_Kmedoid_Normalized'] == cluster][:, 2],\n",
        "        mode='markers',\n",
        "        marker=dict(size=5, color=colors[cluster]),\n",
        "        name=f'Cluster {cluster + 1}'\n",
        "    ))\n",
        "\n",
        "# Add medoids\n",
        "fig.add_trace(go.Scatter3d(\n",
        "    x=medoids_normalized[:, 0],\n",
        "    y=medoids_normalized[:, 1],\n",
        "    z=medoids_normalized[:, 2],\n",
        "    mode='markers',\n",
        "    marker=dict(size=10, color='black', symbol='x'),\n",
        "    name='Medoids'\n",
        "))\n",
        "\n",
        "# Layout\n",
        "fig.update_layout(\n",
        "    scene=dict(\n",
        "        xaxis_title='Normalized Commute Time',\n",
        "        yaxis_title='Normalized Land Cost',\n",
        "        zaxis_title='Normalized Number of Intl. Schools'\n",
        "    ),\n",
        "    title='3D K-Medoids Clustering (Normalized Data)',\n",
        "    showlegend=True\n",
        ")\n",
        "fig.show()"
      ],
      "metadata": {
        "colab": {
          "base_uri": "https://localhost:8080/",
          "height": 797
        },
        "id": "YfP1H9iy6Cbh",
        "outputId": "a792b946-1172-487d-8e39-c80b27e469c8"
      },
      "execution_count": null,
      "outputs": [
        {
          "output_type": "stream",
          "name": "stdout",
          "text": [
            "Cluster Centers (Medoids, Normalized Data):\n",
            "(Normalized Commute Time, Normalized Land Cost, Normalized NumIntl)\n",
            "Cluster 1: [0.14       0.37214576 0.45842658]\n",
            "Cluster 2: [0.62       0.1674526  0.36520916]\n",
            "Cluster 3: [0.46       0.0479682  0.01540713]\n",
            "\n",
            "Districts in Cluster 1:\n",
            "['강남구', '광진구', '동대문구', '동작구', '마포구', '서대문구', '성동구', '용산구', '종로구', '중구']\n",
            "\n",
            "Districts in Cluster 2:\n",
            "['관악구', '성북구']\n",
            "\n",
            "Districts in Cluster 3:\n",
            "['강동구', '강북구', '강서구', '구로구', '금천구', '노원구', '도봉구', '서초구', '송파구', '양천구', '영등포구', '은평구', '중랑구']\n"
          ]
        },
        {
          "output_type": "display_data",
          "data": {
            "text/html": [
              "<html>\n",
              "<head><meta charset=\"utf-8\" /></head>\n",
              "<body>\n",
              "    <div>            <script src=\"https://cdnjs.cloudflare.com/ajax/libs/mathjax/2.7.5/MathJax.js?config=TeX-AMS-MML_SVG\"></script><script type=\"text/javascript\">if (window.MathJax && window.MathJax.Hub && window.MathJax.Hub.Config) {window.MathJax.Hub.Config({SVG: {font: \"STIX-Web\"}});}</script>                <script type=\"text/javascript\">window.PlotlyConfig = {MathJaxConfig: 'local'};</script>\n",
              "        <script charset=\"utf-8\" src=\"https://cdn.plot.ly/plotly-2.35.2.min.js\"></script>                <div id=\"1e145eff-5e25-4383-81ae-24bc097b5276\" class=\"plotly-graph-div\" style=\"height:525px; width:100%;\"></div>            <script type=\"text/javascript\">                                    window.PLOTLYENV=window.PLOTLYENV || {};                                    if (document.getElementById(\"1e145eff-5e25-4383-81ae-24bc097b5276\")) {                    Plotly.newPlot(                        \"1e145eff-5e25-4383-81ae-24bc097b5276\",                        [{\"marker\":{\"color\":\"red\",\"size\":5},\"mode\":\"markers\",\"name\":\"Cluster 1\",\"x\":[0.4999999999999999,0.21999999999999997,0.1399999999999999,0.29999999999999993,0.24,0.09999999999999998,0.039999999999999925,0.09999999999999998,0.1399999999999999,0.0],\"y\":[1.0,0.2077880184621853,0.14617931834933007,0.19829707971599675,0.39691673784372433,0.14489404007273593,0.26167057222577844,0.46390006636198483,0.37214575802569844,0.7929549084685068],\"z\":[0.025822000344293335,0.5716990876226544,0.9999999999999999,0.3891375451885006,0.32716474436219656,0.6546737820623171,0.26140471681872957,0.07841280771217077,0.4584265794456877,0.25176450335686],\"type\":\"scatter3d\"},{\"marker\":{\"color\":\"green\",\"size\":5},\"mode\":\"markers\",\"name\":\"Cluster 2\",\"x\":[0.62,0.9999999999999999],\"y\":[0.16745260405225626,0.08389745216555544],\"z\":[0.36520915820278876,0.6337579617834395],\"type\":\"scatter3d\"},{\"marker\":{\"color\":\"blue\",\"size\":5},\"mode\":\"markers\",\"name\":\"Cluster 3\",\"x\":[0.5199999999999999,0.2599999999999999,0.45999999999999985,0.62,0.7999999999999999,0.44000000000000006,0.6,0.44000000000000006,0.5399999999999999,0.5399999999999999,0.21999999999999997,0.36,0.36],\"y\":[0.1831789048195418,0.026484684186818097,0.04796819660099916,0.05354266626635473,0.05670330528002637,0.017692403073841845,0.0,0.5064887040907977,0.37571950721348274,0.10588985169365733,0.22163172014754473,0.08145110141382711,0.06218252252331641],\"z\":[0.014632466861766223,0.15105870201411603,0.015407126872095023,0.03821656050955414,0.010156653468755378,0.1817868824238251,0.047684627302461695,0.013513513513513513,0.010845240144603202,0.0,0.06627646755035291,0.02082974694439662,0.08813909450852125],\"type\":\"scatter3d\"},{\"marker\":{\"color\":\"black\",\"size\":10,\"symbol\":\"x\"},\"mode\":\"markers\",\"name\":\"Medoids\",\"x\":[0.1399999999999999,0.62,0.45999999999999985],\"y\":[0.37214575802569844,0.16745260405225626,0.04796819660099916],\"z\":[0.4584265794456877,0.36520915820278876,0.015407126872095023],\"type\":\"scatter3d\"}],                        {\"template\":{\"data\":{\"histogram2dcontour\":[{\"type\":\"histogram2dcontour\",\"colorbar\":{\"outlinewidth\":0,\"ticks\":\"\"},\"colorscale\":[[0.0,\"#0d0887\"],[0.1111111111111111,\"#46039f\"],[0.2222222222222222,\"#7201a8\"],[0.3333333333333333,\"#9c179e\"],[0.4444444444444444,\"#bd3786\"],[0.5555555555555556,\"#d8576b\"],[0.6666666666666666,\"#ed7953\"],[0.7777777777777778,\"#fb9f3a\"],[0.8888888888888888,\"#fdca26\"],[1.0,\"#f0f921\"]]}],\"choropleth\":[{\"type\":\"choropleth\",\"colorbar\":{\"outlinewidth\":0,\"ticks\":\"\"}}],\"histogram2d\":[{\"type\":\"histogram2d\",\"colorbar\":{\"outlinewidth\":0,\"ticks\":\"\"},\"colorscale\":[[0.0,\"#0d0887\"],[0.1111111111111111,\"#46039f\"],[0.2222222222222222,\"#7201a8\"],[0.3333333333333333,\"#9c179e\"],[0.4444444444444444,\"#bd3786\"],[0.5555555555555556,\"#d8576b\"],[0.6666666666666666,\"#ed7953\"],[0.7777777777777778,\"#fb9f3a\"],[0.8888888888888888,\"#fdca26\"],[1.0,\"#f0f921\"]]}],\"heatmap\":[{\"type\":\"heatmap\",\"colorbar\":{\"outlinewidth\":0,\"ticks\":\"\"},\"colorscale\":[[0.0,\"#0d0887\"],[0.1111111111111111,\"#46039f\"],[0.2222222222222222,\"#7201a8\"],[0.3333333333333333,\"#9c179e\"],[0.4444444444444444,\"#bd3786\"],[0.5555555555555556,\"#d8576b\"],[0.6666666666666666,\"#ed7953\"],[0.7777777777777778,\"#fb9f3a\"],[0.8888888888888888,\"#fdca26\"],[1.0,\"#f0f921\"]]}],\"heatmapgl\":[{\"type\":\"heatmapgl\",\"colorbar\":{\"outlinewidth\":0,\"ticks\":\"\"},\"colorscale\":[[0.0,\"#0d0887\"],[0.1111111111111111,\"#46039f\"],[0.2222222222222222,\"#7201a8\"],[0.3333333333333333,\"#9c179e\"],[0.4444444444444444,\"#bd3786\"],[0.5555555555555556,\"#d8576b\"],[0.6666666666666666,\"#ed7953\"],[0.7777777777777778,\"#fb9f3a\"],[0.8888888888888888,\"#fdca26\"],[1.0,\"#f0f921\"]]}],\"contourcarpet\":[{\"type\":\"contourcarpet\",\"colorbar\":{\"outlinewidth\":0,\"ticks\":\"\"}}],\"contour\":[{\"type\":\"contour\",\"colorbar\":{\"outlinewidth\":0,\"ticks\":\"\"},\"colorscale\":[[0.0,\"#0d0887\"],[0.1111111111111111,\"#46039f\"],[0.2222222222222222,\"#7201a8\"],[0.3333333333333333,\"#9c179e\"],[0.4444444444444444,\"#bd3786\"],[0.5555555555555556,\"#d8576b\"],[0.6666666666666666,\"#ed7953\"],[0.7777777777777778,\"#fb9f3a\"],[0.8888888888888888,\"#fdca26\"],[1.0,\"#f0f921\"]]}],\"surface\":[{\"type\":\"surface\",\"colorbar\":{\"outlinewidth\":0,\"ticks\":\"\"},\"colorscale\":[[0.0,\"#0d0887\"],[0.1111111111111111,\"#46039f\"],[0.2222222222222222,\"#7201a8\"],[0.3333333333333333,\"#9c179e\"],[0.4444444444444444,\"#bd3786\"],[0.5555555555555556,\"#d8576b\"],[0.6666666666666666,\"#ed7953\"],[0.7777777777777778,\"#fb9f3a\"],[0.8888888888888888,\"#fdca26\"],[1.0,\"#f0f921\"]]}],\"mesh3d\":[{\"type\":\"mesh3d\",\"colorbar\":{\"outlinewidth\":0,\"ticks\":\"\"}}],\"scatter\":[{\"fillpattern\":{\"fillmode\":\"overlay\",\"size\":10,\"solidity\":0.2},\"type\":\"scatter\"}],\"parcoords\":[{\"type\":\"parcoords\",\"line\":{\"colorbar\":{\"outlinewidth\":0,\"ticks\":\"\"}}}],\"scatterpolargl\":[{\"type\":\"scatterpolargl\",\"marker\":{\"colorbar\":{\"outlinewidth\":0,\"ticks\":\"\"}}}],\"bar\":[{\"error_x\":{\"color\":\"#2a3f5f\"},\"error_y\":{\"color\":\"#2a3f5f\"},\"marker\":{\"line\":{\"color\":\"#E5ECF6\",\"width\":0.5},\"pattern\":{\"fillmode\":\"overlay\",\"size\":10,\"solidity\":0.2}},\"type\":\"bar\"}],\"scattergeo\":[{\"type\":\"scattergeo\",\"marker\":{\"colorbar\":{\"outlinewidth\":0,\"ticks\":\"\"}}}],\"scatterpolar\":[{\"type\":\"scatterpolar\",\"marker\":{\"colorbar\":{\"outlinewidth\":0,\"ticks\":\"\"}}}],\"histogram\":[{\"marker\":{\"pattern\":{\"fillmode\":\"overlay\",\"size\":10,\"solidity\":0.2}},\"type\":\"histogram\"}],\"scattergl\":[{\"type\":\"scattergl\",\"marker\":{\"colorbar\":{\"outlinewidth\":0,\"ticks\":\"\"}}}],\"scatter3d\":[{\"type\":\"scatter3d\",\"line\":{\"colorbar\":{\"outlinewidth\":0,\"ticks\":\"\"}},\"marker\":{\"colorbar\":{\"outlinewidth\":0,\"ticks\":\"\"}}}],\"scattermapbox\":[{\"type\":\"scattermapbox\",\"marker\":{\"colorbar\":{\"outlinewidth\":0,\"ticks\":\"\"}}}],\"scatterternary\":[{\"type\":\"scatterternary\",\"marker\":{\"colorbar\":{\"outlinewidth\":0,\"ticks\":\"\"}}}],\"scattercarpet\":[{\"type\":\"scattercarpet\",\"marker\":{\"colorbar\":{\"outlinewidth\":0,\"ticks\":\"\"}}}],\"carpet\":[{\"aaxis\":{\"endlinecolor\":\"#2a3f5f\",\"gridcolor\":\"white\",\"linecolor\":\"white\",\"minorgridcolor\":\"white\",\"startlinecolor\":\"#2a3f5f\"},\"baxis\":{\"endlinecolor\":\"#2a3f5f\",\"gridcolor\":\"white\",\"linecolor\":\"white\",\"minorgridcolor\":\"white\",\"startlinecolor\":\"#2a3f5f\"},\"type\":\"carpet\"}],\"table\":[{\"cells\":{\"fill\":{\"color\":\"#EBF0F8\"},\"line\":{\"color\":\"white\"}},\"header\":{\"fill\":{\"color\":\"#C8D4E3\"},\"line\":{\"color\":\"white\"}},\"type\":\"table\"}],\"barpolar\":[{\"marker\":{\"line\":{\"color\":\"#E5ECF6\",\"width\":0.5},\"pattern\":{\"fillmode\":\"overlay\",\"size\":10,\"solidity\":0.2}},\"type\":\"barpolar\"}],\"pie\":[{\"automargin\":true,\"type\":\"pie\"}]},\"layout\":{\"autotypenumbers\":\"strict\",\"colorway\":[\"#636efa\",\"#EF553B\",\"#00cc96\",\"#ab63fa\",\"#FFA15A\",\"#19d3f3\",\"#FF6692\",\"#B6E880\",\"#FF97FF\",\"#FECB52\"],\"font\":{\"color\":\"#2a3f5f\"},\"hovermode\":\"closest\",\"hoverlabel\":{\"align\":\"left\"},\"paper_bgcolor\":\"white\",\"plot_bgcolor\":\"#E5ECF6\",\"polar\":{\"bgcolor\":\"#E5ECF6\",\"angularaxis\":{\"gridcolor\":\"white\",\"linecolor\":\"white\",\"ticks\":\"\"},\"radialaxis\":{\"gridcolor\":\"white\",\"linecolor\":\"white\",\"ticks\":\"\"}},\"ternary\":{\"bgcolor\":\"#E5ECF6\",\"aaxis\":{\"gridcolor\":\"white\",\"linecolor\":\"white\",\"ticks\":\"\"},\"baxis\":{\"gridcolor\":\"white\",\"linecolor\":\"white\",\"ticks\":\"\"},\"caxis\":{\"gridcolor\":\"white\",\"linecolor\":\"white\",\"ticks\":\"\"}},\"coloraxis\":{\"colorbar\":{\"outlinewidth\":0,\"ticks\":\"\"}},\"colorscale\":{\"sequential\":[[0.0,\"#0d0887\"],[0.1111111111111111,\"#46039f\"],[0.2222222222222222,\"#7201a8\"],[0.3333333333333333,\"#9c179e\"],[0.4444444444444444,\"#bd3786\"],[0.5555555555555556,\"#d8576b\"],[0.6666666666666666,\"#ed7953\"],[0.7777777777777778,\"#fb9f3a\"],[0.8888888888888888,\"#fdca26\"],[1.0,\"#f0f921\"]],\"sequentialminus\":[[0.0,\"#0d0887\"],[0.1111111111111111,\"#46039f\"],[0.2222222222222222,\"#7201a8\"],[0.3333333333333333,\"#9c179e\"],[0.4444444444444444,\"#bd3786\"],[0.5555555555555556,\"#d8576b\"],[0.6666666666666666,\"#ed7953\"],[0.7777777777777778,\"#fb9f3a\"],[0.8888888888888888,\"#fdca26\"],[1.0,\"#f0f921\"]],\"diverging\":[[0,\"#8e0152\"],[0.1,\"#c51b7d\"],[0.2,\"#de77ae\"],[0.3,\"#f1b6da\"],[0.4,\"#fde0ef\"],[0.5,\"#f7f7f7\"],[0.6,\"#e6f5d0\"],[0.7,\"#b8e186\"],[0.8,\"#7fbc41\"],[0.9,\"#4d9221\"],[1,\"#276419\"]]},\"xaxis\":{\"gridcolor\":\"white\",\"linecolor\":\"white\",\"ticks\":\"\",\"title\":{\"standoff\":15},\"zerolinecolor\":\"white\",\"automargin\":true,\"zerolinewidth\":2},\"yaxis\":{\"gridcolor\":\"white\",\"linecolor\":\"white\",\"ticks\":\"\",\"title\":{\"standoff\":15},\"zerolinecolor\":\"white\",\"automargin\":true,\"zerolinewidth\":2},\"scene\":{\"xaxis\":{\"backgroundcolor\":\"#E5ECF6\",\"gridcolor\":\"white\",\"linecolor\":\"white\",\"showbackground\":true,\"ticks\":\"\",\"zerolinecolor\":\"white\",\"gridwidth\":2},\"yaxis\":{\"backgroundcolor\":\"#E5ECF6\",\"gridcolor\":\"white\",\"linecolor\":\"white\",\"showbackground\":true,\"ticks\":\"\",\"zerolinecolor\":\"white\",\"gridwidth\":2},\"zaxis\":{\"backgroundcolor\":\"#E5ECF6\",\"gridcolor\":\"white\",\"linecolor\":\"white\",\"showbackground\":true,\"ticks\":\"\",\"zerolinecolor\":\"white\",\"gridwidth\":2}},\"shapedefaults\":{\"line\":{\"color\":\"#2a3f5f\"}},\"annotationdefaults\":{\"arrowcolor\":\"#2a3f5f\",\"arrowhead\":0,\"arrowwidth\":1},\"geo\":{\"bgcolor\":\"white\",\"landcolor\":\"#E5ECF6\",\"subunitcolor\":\"white\",\"showland\":true,\"showlakes\":true,\"lakecolor\":\"white\"},\"title\":{\"x\":0.05},\"mapbox\":{\"style\":\"light\"}}},\"scene\":{\"xaxis\":{\"title\":{\"text\":\"Normalized Commute Time\"}},\"yaxis\":{\"title\":{\"text\":\"Normalized Land Cost\"}},\"zaxis\":{\"title\":{\"text\":\"Normalized Number of Intl. Schools\"}}},\"title\":{\"text\":\"3D K-Medoids Clustering (Normalized Data)\"},\"showlegend\":true},                        {\"responsive\": true}                    ).then(function(){\n",
              "                            \n",
              "var gd = document.getElementById('1e145eff-5e25-4383-81ae-24bc097b5276');\n",
              "var x = new MutationObserver(function (mutations, observer) {{\n",
              "        var display = window.getComputedStyle(gd).display;\n",
              "        if (!display || display === 'none') {{\n",
              "            console.log([gd, 'removed!']);\n",
              "            Plotly.purge(gd);\n",
              "            observer.disconnect();\n",
              "        }}\n",
              "}});\n",
              "\n",
              "// Listen for the removal of the full notebook cells\n",
              "var notebookContainer = gd.closest('#notebook-container');\n",
              "if (notebookContainer) {{\n",
              "    x.observe(notebookContainer, {childList: true});\n",
              "}}\n",
              "\n",
              "// Listen for the clearing of the current output cell\n",
              "var outputEl = gd.closest('.output');\n",
              "if (outputEl) {{\n",
              "    x.observe(outputEl, {childList: true});\n",
              "}}\n",
              "\n",
              "                        })                };                            </script>        </div>\n",
              "</body>\n",
              "</html>"
            ]
          },
          "metadata": {}
        }
      ]
    },
    {
      "cell_type": "markdown",
      "source": [
        "--> pick cluster 1"
      ],
      "metadata": {
        "id": "Au6cCMQpEy4X"
      }
    },
    {
      "cell_type": "markdown",
      "source": [
        "selected 구 by k-medoid: ['강남구', '광진구', '동대문구', '동작구', '마포구', '서대문구', '성동구', '용산구', '종로구', '중구']"
      ],
      "metadata": {
        "id": "_KgI-fyNLzra"
      }
    },
    {
      "cell_type": "code",
      "source": [
        "#for hierarchical, used same k from k-mean\n",
        "import scipy.cluster.hierarchy as sch\n",
        "import matplotlib.pyplot as plt\n",
        "from scipy.cluster.hierarchy import fcluster\n",
        "from sklearn.preprocessing import MinMaxScaler\n",
        "import pandas as pd\n",
        "\n",
        "# 데이터 추출\n",
        "data = df[['CommuteTime', 'LandCost', 'NumIntl']].values\n",
        "\n",
        "# (2) Hierarchical Clustering (정규화 데이터)\n",
        "# Normalize the data\n",
        "scaler = MinMaxScaler()\n",
        "normalized_data = scaler.fit_transform(df[['CommuteTime', 'LandCost', 'NumIntl']])\n",
        "\n",
        "# Perform hierarchical clustering on normalized data\n",
        "linkage_matrix_normalized = sch.linkage(normalized_data, method='ward')\n",
        "\n",
        "# Plot the dendrogram for normalized data\n",
        "plt.figure(figsize=(10, 7))\n",
        "dendrogram = sch.dendrogram(linkage_matrix_normalized, labels=df['District'].values, leaf_rotation=90, leaf_font_size=10)\n",
        "plt.title('Hierarchical Clustering Dendrogram (Normalized Data)')\n",
        "plt.xlabel('Districts')\n",
        "plt.ylabel('Distance')\n",
        "plt.show()\n",
        "\n",
        "# Create clusters with k=3 on normalized data\n",
        "clusters_normalized = fcluster(linkage_matrix_normalized, t=3, criterion='maxclust')\n",
        "df['Cluster_Hier_Normalized'] = clusters_normalized\n",
        "\n",
        "# Calculate cluster means (normalized data)\n",
        "normalized_df = pd.DataFrame(normalized_data, columns=['CommuteTime', 'LandCost', 'NumIntl'])\n",
        "normalized_df['Cluster_Hier'] = clusters_normalized\n",
        "cluster_means_normalized = normalized_df.groupby('Cluster_Hier')[['CommuteTime', 'LandCost', 'NumIntl']].mean()\n",
        "\n",
        "# Print cluster means for normalized data\n",
        "print(\"\\nk=3 군집별 평균 (정규화된 데이터):\")\n",
        "print(cluster_means_normalized)\n"
      ],
      "metadata": {
        "colab": {
          "base_uri": "https://localhost:8080/",
          "height": 1000
        },
        "id": "Ho0OjWvJ6Dx1",
        "outputId": "e950dd77-23ee-4949-9770-3925678c9c0c"
      },
      "execution_count": null,
      "outputs": [
        {
          "output_type": "stream",
          "name": "stderr",
          "text": [
            "/usr/local/lib/python3.10/dist-packages/IPython/core/pylabtools.py:151: UserWarning:\n",
            "\n",
            "Glyph 49457 (\\N{HANGUL SYLLABLE SEONG}) missing from current font.\n",
            "\n",
            "/usr/local/lib/python3.10/dist-packages/IPython/core/pylabtools.py:151: UserWarning:\n",
            "\n",
            "Glyph 48513 (\\N{HANGUL SYLLABLE BUG}) missing from current font.\n",
            "\n",
            "/usr/local/lib/python3.10/dist-packages/IPython/core/pylabtools.py:151: UserWarning:\n",
            "\n",
            "Glyph 44396 (\\N{HANGUL SYLLABLE GU}) missing from current font.\n",
            "\n",
            "/usr/local/lib/python3.10/dist-packages/IPython/core/pylabtools.py:151: UserWarning:\n",
            "\n",
            "Glyph 44053 (\\N{HANGUL SYLLABLE GANG}) missing from current font.\n",
            "\n",
            "/usr/local/lib/python3.10/dist-packages/IPython/core/pylabtools.py:151: UserWarning:\n",
            "\n",
            "Glyph 49436 (\\N{HANGUL SYLLABLE SEO}) missing from current font.\n",
            "\n",
            "/usr/local/lib/python3.10/dist-packages/IPython/core/pylabtools.py:151: UserWarning:\n",
            "\n",
            "Glyph 51008 (\\N{HANGUL SYLLABLE EUN}) missing from current font.\n",
            "\n",
            "/usr/local/lib/python3.10/dist-packages/IPython/core/pylabtools.py:151: UserWarning:\n",
            "\n",
            "Glyph 54217 (\\N{HANGUL SYLLABLE PYEONG}) missing from current font.\n",
            "\n",
            "/usr/local/lib/python3.10/dist-packages/IPython/core/pylabtools.py:151: UserWarning:\n",
            "\n",
            "Glyph 51473 (\\N{HANGUL SYLLABLE JUNG}) missing from current font.\n",
            "\n",
            "/usr/local/lib/python3.10/dist-packages/IPython/core/pylabtools.py:151: UserWarning:\n",
            "\n",
            "Glyph 46993 (\\N{HANGUL SYLLABLE RANG}) missing from current font.\n",
            "\n",
            "/usr/local/lib/python3.10/dist-packages/IPython/core/pylabtools.py:151: UserWarning:\n",
            "\n",
            "Glyph 45432 (\\N{HANGUL SYLLABLE NO}) missing from current font.\n",
            "\n",
            "/usr/local/lib/python3.10/dist-packages/IPython/core/pylabtools.py:151: UserWarning:\n",
            "\n",
            "Glyph 50896 (\\N{HANGUL SYLLABLE WEON}) missing from current font.\n",
            "\n",
            "/usr/local/lib/python3.10/dist-packages/IPython/core/pylabtools.py:151: UserWarning:\n",
            "\n",
            "Glyph 44288 (\\N{HANGUL SYLLABLE GWAN}) missing from current font.\n",
            "\n",
            "/usr/local/lib/python3.10/dist-packages/IPython/core/pylabtools.py:151: UserWarning:\n",
            "\n",
            "Glyph 50501 (\\N{HANGUL SYLLABLE AG}) missing from current font.\n",
            "\n",
            "/usr/local/lib/python3.10/dist-packages/IPython/core/pylabtools.py:151: UserWarning:\n",
            "\n",
            "Glyph 44552 (\\N{HANGUL SYLLABLE GEUM}) missing from current font.\n",
            "\n",
            "/usr/local/lib/python3.10/dist-packages/IPython/core/pylabtools.py:151: UserWarning:\n",
            "\n",
            "Glyph 52380 (\\N{HANGUL SYLLABLE CEON}) missing from current font.\n",
            "\n",
            "/usr/local/lib/python3.10/dist-packages/IPython/core/pylabtools.py:151: UserWarning:\n",
            "\n",
            "Glyph 47196 (\\N{HANGUL SYLLABLE RO}) missing from current font.\n",
            "\n",
            "/usr/local/lib/python3.10/dist-packages/IPython/core/pylabtools.py:151: UserWarning:\n",
            "\n",
            "Glyph 46020 (\\N{HANGUL SYLLABLE DO}) missing from current font.\n",
            "\n",
            "/usr/local/lib/python3.10/dist-packages/IPython/core/pylabtools.py:151: UserWarning:\n",
            "\n",
            "Glyph 48393 (\\N{HANGUL SYLLABLE BONG}) missing from current font.\n",
            "\n",
            "/usr/local/lib/python3.10/dist-packages/IPython/core/pylabtools.py:151: UserWarning:\n",
            "\n",
            "Glyph 46041 (\\N{HANGUL SYLLABLE DONG}) missing from current font.\n",
            "\n",
            "/usr/local/lib/python3.10/dist-packages/IPython/core/pylabtools.py:151: UserWarning:\n",
            "\n",
            "Glyph 50577 (\\N{HANGUL SYLLABLE YANG}) missing from current font.\n",
            "\n",
            "/usr/local/lib/python3.10/dist-packages/IPython/core/pylabtools.py:151: UserWarning:\n",
            "\n",
            "Glyph 45824 (\\N{HANGUL SYLLABLE DAE}) missing from current font.\n",
            "\n",
            "/usr/local/lib/python3.10/dist-packages/IPython/core/pylabtools.py:151: UserWarning:\n",
            "\n",
            "Glyph 47928 (\\N{HANGUL SYLLABLE MUN}) missing from current font.\n",
            "\n",
            "/usr/local/lib/python3.10/dist-packages/IPython/core/pylabtools.py:151: UserWarning:\n",
            "\n",
            "Glyph 44305 (\\N{HANGUL SYLLABLE GWANG}) missing from current font.\n",
            "\n",
            "/usr/local/lib/python3.10/dist-packages/IPython/core/pylabtools.py:151: UserWarning:\n",
            "\n",
            "Glyph 51652 (\\N{HANGUL SYLLABLE JIN}) missing from current font.\n",
            "\n",
            "/usr/local/lib/python3.10/dist-packages/IPython/core/pylabtools.py:151: UserWarning:\n",
            "\n",
            "Glyph 51089 (\\N{HANGUL SYLLABLE JAG}) missing from current font.\n",
            "\n",
            "/usr/local/lib/python3.10/dist-packages/IPython/core/pylabtools.py:151: UserWarning:\n",
            "\n",
            "Glyph 47560 (\\N{HANGUL SYLLABLE MA}) missing from current font.\n",
            "\n",
            "/usr/local/lib/python3.10/dist-packages/IPython/core/pylabtools.py:151: UserWarning:\n",
            "\n",
            "Glyph 54252 (\\N{HANGUL SYLLABLE PO}) missing from current font.\n",
            "\n",
            "/usr/local/lib/python3.10/dist-packages/IPython/core/pylabtools.py:151: UserWarning:\n",
            "\n",
            "Glyph 51333 (\\N{HANGUL SYLLABLE JONG}) missing from current font.\n",
            "\n",
            "/usr/local/lib/python3.10/dist-packages/IPython/core/pylabtools.py:151: UserWarning:\n",
            "\n",
            "Glyph 45224 (\\N{HANGUL SYLLABLE NAM}) missing from current font.\n",
            "\n",
            "/usr/local/lib/python3.10/dist-packages/IPython/core/pylabtools.py:151: UserWarning:\n",
            "\n",
            "Glyph 52488 (\\N{HANGUL SYLLABLE CO}) missing from current font.\n",
            "\n",
            "/usr/local/lib/python3.10/dist-packages/IPython/core/pylabtools.py:151: UserWarning:\n",
            "\n",
            "Glyph 49569 (\\N{HANGUL SYLLABLE SONG}) missing from current font.\n",
            "\n",
            "/usr/local/lib/python3.10/dist-packages/IPython/core/pylabtools.py:151: UserWarning:\n",
            "\n",
            "Glyph 54028 (\\N{HANGUL SYLLABLE PA}) missing from current font.\n",
            "\n",
            "/usr/local/lib/python3.10/dist-packages/IPython/core/pylabtools.py:151: UserWarning:\n",
            "\n",
            "Glyph 50857 (\\N{HANGUL SYLLABLE YONG}) missing from current font.\n",
            "\n",
            "/usr/local/lib/python3.10/dist-packages/IPython/core/pylabtools.py:151: UserWarning:\n",
            "\n",
            "Glyph 49328 (\\N{HANGUL SYLLABLE SAN}) missing from current font.\n",
            "\n",
            "/usr/local/lib/python3.10/dist-packages/IPython/core/pylabtools.py:151: UserWarning:\n",
            "\n",
            "Glyph 50689 (\\N{HANGUL SYLLABLE YEONG}) missing from current font.\n",
            "\n",
            "/usr/local/lib/python3.10/dist-packages/IPython/core/pylabtools.py:151: UserWarning:\n",
            "\n",
            "Glyph 46321 (\\N{HANGUL SYLLABLE DEUNG}) missing from current font.\n",
            "\n"
          ]
        },
        {
          "output_type": "display_data",
          "data": {
            "text/plain": [
              "<Figure size 1000x700 with 1 Axes>"
            ],
            "image/png": "[encoded data removed]"
          },
          "metadata": {}
        },
        {
          "output_type": "stream",
          "name": "stdout",
          "text": [
            "\n",
            "k=3 군집별 평균 (정규화된 데이터):\n",
            "              CommuteTime  LandCost   NumIntl\n",
            "Cluster_Hier                                 \n",
            "1                0.548333  0.073870  0.130573\n",
            "2                0.190000  0.244370  0.566850\n",
            "3                0.262857  0.517481  0.101148\n"
          ]
        }
      ]
    },
    {
      "cell_type": "markdown",
      "source": [
        "--> pick cluster 2\n"
      ],
      "metadata": {
        "id": "5XD6XpxiFnJX"
      }
    },
    {
      "cell_type": "code",
      "source": [
        "# 정규화된 데이터에서 Cluster 2에 해당하는 구들 출력\n",
        "cluster_3_districts_normalized = df[df['Cluster_Hier_Normalized'] == 2]['District']\n",
        "print(\"\\nCluster 2에 해당하는 구들 (정규화된 데이터):\")\n",
        "print(cluster_3_districts_normalized.tolist())"
      ],
      "metadata": {
        "colab": {
          "base_uri": "https://localhost:8080/"
        },
        "id": "2HU4j7HUFmok",
        "outputId": "765fe7d3-48bb-4306-bccb-2c1c2c42e84b"
      },
      "execution_count": null,
      "outputs": [
        {
          "output_type": "stream",
          "name": "stdout",
          "text": [
            "\n",
            "Cluster 2에 해당하는 구들 (정규화된 데이터):\n",
            "['광진구', '동대문구', '동작구', '마포구', '서대문구', '종로구']\n"
          ]
        }
      ]
    },
    {
      "cell_type": "markdown",
      "source": [
        "kmean ['광진구', '동대문구', '서대문구']\n",
        "\n",
        "kmedoid ['강남구', '광진구', '동대문구', '동작구', '마포구', '서대문구', '성동구', '용산구', '종로구', '중구']\n",
        "\n",
        "hierarchical ['광진구', '동대문구', '동작구', '마포구', '서대문구', '종로구']"
      ],
      "metadata": {
        "id": "HERdQpBWO4Ds"
      }
    },
    {
      "cell_type": "markdown",
      "source": [
        "광진구, 동대문구, 서대문구"
      ],
      "metadata": {
        "id": "rJuktJSrPQni"
      }
    }
  ]
}